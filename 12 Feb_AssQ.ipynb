{
 "cells": [
  {
   "cell_type": "code",
   "execution_count": 1,
   "id": "48443cd0-3f53-4d80-a38d-a17ab73d959b",
   "metadata": {},
   "outputs": [],
   "source": [
    "#Q1. What is an Exception in python? Write the difference between Exceptions and syntax errors\n",
    "\n",
    "# An exception is an error that occurs during the execution of a program. It's a signal that something unexpected happened,\n",
    "#such as attempting to divide a number by zero, \n",
    "#accessing an invalid index in a list, or opening a file that doesn't exist.\n",
    "\n",
    "# Syntax errors, on the other hand, occur when the code violates Python's syntax rules, making it impossible for the interpreter to understand it.\n",
    "# For example, forgetting to close a parenthesis or putting a colon in the wrong place can cause a syntax error.\n",
    "\n",
    "# The key difference between the two is that syntax errors happen before the program runs, while exceptions occur during the program's execution. \n",
    "# Additionally, syntax errors are caused by mistakes in the code's structure, while exceptions are caused by runtime issues that the program can't handle.\n",
    "\n",
    "\n",
    "\n"
   ]
  },
  {
   "cell_type": "code",
   "execution_count": 2,
   "id": "f3f3cec7-16ab-4bda-a17f-ffcf79bd1a2b",
   "metadata": {},
   "outputs": [
    {
     "ename": "ZeroDivisionError",
     "evalue": "division by zero",
     "output_type": "error",
     "traceback": [
      "\u001b[0;31m---------------------------------------------------------------------------\u001b[0m",
      "\u001b[0;31mZeroDivisionError\u001b[0m                         Traceback (most recent call last)",
      "Cell \u001b[0;32mIn[2], line 7\u001b[0m\n\u001b[1;32m      5\u001b[0m numerator \u001b[38;5;241m=\u001b[39m \u001b[38;5;241m10\u001b[39m\n\u001b[1;32m      6\u001b[0m denominator \u001b[38;5;241m=\u001b[39m \u001b[38;5;241m0\u001b[39m\n\u001b[0;32m----> 7\u001b[0m result \u001b[38;5;241m=\u001b[39m \u001b[43mnumerator\u001b[49m\u001b[43m \u001b[49m\u001b[38;5;241;43m/\u001b[39;49m\u001b[43m \u001b[49m\u001b[43mdenominator\u001b[49m\n\u001b[1;32m      8\u001b[0m \u001b[38;5;28mprint\u001b[39m(result)\n\u001b[1;32m     10\u001b[0m \u001b[38;5;66;03m#In this example, the code attempts to divide numerator by denominator, which is zero. This results in a ZeroDivisionError exception being raised because it's impossible to divide by zero.\u001b[39;00m\n",
      "\u001b[0;31mZeroDivisionError\u001b[0m: division by zero"
     ]
    }
   ],
   "source": [
    "#Q2. What happens when an exception is not handled? Explain with an example\n",
    "\n",
    "# When an exception is not handled, it results in an error message being displayed, and the program terminates abruptly.\n",
    "#The error message provides information about the type of exception, the line of code where the exception occurred, \n",
    "#and a traceback of the function calls that led up to the exception.\n",
    "\n",
    "numerator = 10\n",
    "denominator = 0\n",
    "result = numerator / denominator\n",
    "print(result)\n",
    "\n",
    "#In this example, the code attempts to divide numerator by denominator, which is zero. \n",
    "#This results in a ZeroDivisionError exception being raised because it's impossible to divide by zero."
   ]
  },
  {
   "cell_type": "code",
   "execution_count": 3,
   "id": "5dc9d139-d4f4-4e74-9ab1-e998bd6786ae",
   "metadata": {},
   "outputs": [
    {
     "name": "stdout",
     "output_type": "stream",
     "text": [
      "Error: Cannot divide by zero\n"
     ]
    }
   ],
   "source": [
    "# This error message tells us that a ZeroDivisionError occurred on line 3 of the code, which is where the division by zero occurred.\n",
    "\n",
    "# If we don't handle this exception, the program will terminate abruptly, and any code after the line that raised the exception will not be executed. \n",
    "#This can be problematic if we need to ensure that certain code is always executed, such as closing a file or releasing a resource.\n",
    "\n",
    "# To handle the exception and prevent the program from terminating, we can use a try-except block, like this:\n",
    "\n",
    "numerator = 10\n",
    "denominator = 0\n",
    "\n",
    "try:\n",
    "    result = numerator / denominator\n",
    "    print(result)\n",
    "except ZeroDivisionError:\n",
    "    print(\"Error: Cannot divide by zero\")\n",
    "    \n",
    "#In this code, we use a try-except block to catch the ZeroDivisionError exception and \n",
    "#print a user-friendly error message instead of letting the program terminate abruptly.\n",
    "\n",
    "\n",
    "\n",
    "\n"
   ]
  },
  {
   "cell_type": "code",
   "execution_count": 4,
   "id": "02aaafbb-1ae8-438d-a907-1cae1a0aaffb",
   "metadata": {},
   "outputs": [
    {
     "name": "stdin",
     "output_type": "stream",
     "text": [
      "Enter a number:  0.10\n"
     ]
    },
    {
     "name": "stdout",
     "output_type": "stream",
     "text": [
      "Error: Invalid input.\n"
     ]
    }
   ],
   "source": [
    "#Q3. Which Python statements are used to ,catchand handle exceptions? Explain with an example\n",
    "\n",
    "#To catch and handle exceptions, we use the try and except statements. \n",
    "#The try statement is used to execute a block of code that might raise an exception,\n",
    "#and the except statement is used to handle the exception.\n",
    "\n",
    "try:\n",
    "    num1 = int(input(\"Enter a number: \"))\n",
    "    num2 = int(input(\"Enter another number: \"))\n",
    "    result = num1 / num2\n",
    "    print(\"The result is:\", result)\n",
    "except ZeroDivisionError:\n",
    "    print(\"Error: Cannot divide by zero.\")\n",
    "except ValueError:\n",
    "    print(\"Error: Invalid input.\")\n",
    "    \n",
    "#In this example, the try statement contains code that might raise two types of exceptions: ZeroDivisionError and ValueError.\n",
    "#If either of these exceptions is raised, the corresponding except block will be executed.\n"
   ]
  },
  {
   "cell_type": "code",
   "execution_count": 5,
   "id": "be751ee5-21a0-4199-9988-b5f6c8715d4b",
   "metadata": {},
   "outputs": [],
   "source": [
    "# If the user enters 0 as the second number, a ZeroDivisionError will be raised, and the first except block will be executed, \n",
    "# printing the message \"Error: Cannot divide by zero.\".\n",
    "# If the user enters a non-numeric value as either of the numbers, a ValueError will be raised, and the second except block will be executed, \n",
    "# printing the message \"Error: Invalid input.\"."
   ]
  },
  {
   "cell_type": "code",
   "execution_count": 6,
   "id": "f64fa4d8-2987-479f-a71e-22c42d5a02e8",
   "metadata": {},
   "outputs": [
    {
     "data": {
      "text/plain": [
       "'Q4. Explain with an example:\\na. try and else\\nb. finally\\nc.raise '"
      ]
     },
     "execution_count": 6,
     "metadata": {},
     "output_type": "execute_result"
    }
   ],
   "source": [
    "\"\"\"Q4. Explain with an example:\n",
    "a. try and else\n",
    "b. finally\n",
    "c.raise \"\"\""
   ]
  },
  {
   "cell_type": "code",
   "execution_count": 9,
   "id": "3b8b7bcf-038c-48d4-a2a9-71f7f33834e9",
   "metadata": {},
   "outputs": [
    {
     "name": "stdin",
     "output_type": "stream",
     "text": [
      "Please enter a number:  0\n"
     ]
    },
    {
     "name": "stdout",
     "output_type": "stream",
     "text": [
      "You cannot divide by zero.\n"
     ]
    }
   ],
   "source": [
    "# (a)'try' and 'else' are used in Python to handle exceptions.\n",
    "# When you write a piece of code that might raise an exception, you can put that code inside a 'try' block. \n",
    "# If an exception is raised in the try block, Python will look for an except block that\n",
    "# matches the type of exception that was raised, and execute that block. \n",
    "# If there is no matching except block, the exception will \"bubble up\" to the calling code.\n",
    "# An 'else' block can also be used after except to execute code when no exceptions occur in the try block\n",
    "\n",
    "\n",
    "try:\n",
    "    x = int(input(\"Please enter a number: \"))\n",
    "    result = 100 / x\n",
    "except ValueError:\n",
    "    print(\"That was not a valid number.\")\n",
    "except ZeroDivisionError:\n",
    "    print(\"You cannot divide by zero.\")\n",
    "else:\n",
    "    print(\"The result is:\", result)\n",
    "\n",
    "#In this example, the code inside the try block will prompt the user to enter a number, \n",
    "#convert the input to an integer, and then divide 100 by that number    \n",
    "# If the user enters an invalid number (e.g., a string), a ValueError will be raised, \n",
    "#and the first except block will execute.     \n",
    "#If the user enters 0, a ZeroDivisionError will be raised, and the second except block will execute. \n",
    "#If the user enters a valid number that is not 0, the division will succeed, \n",
    "#and the else block will execute, printing the result."
   ]
  },
  {
   "cell_type": "code",
   "execution_count": 10,
   "id": "86e6497c-d049-4b5a-85ee-d17d73b588cd",
   "metadata": {},
   "outputs": [
    {
     "name": "stdout",
     "output_type": "stream",
     "text": [
      "Could not read file.\n"
     ]
    }
   ],
   "source": [
    "#(b)'finally' is another block that can be used with 'try' and 'except'.\n",
    "#The 'finally' block is always executed, regardless of whether an exception was raised or not. \n",
    "#This is useful for releasing resources or cleaning up after a piece of code runs, \n",
    "#regardless of whether an exception occurred.\n",
    "\n",
    "f = None\n",
    "try:\n",
    "    f = open(\"myfile.txt\", \"r\")\n",
    "    # Do something with the file\n",
    "except IOError:\n",
    "    print(\"Could not read file.\")\n",
    "finally:\n",
    "    if f:\n",
    "        f.close()\n",
    "        \n",
    "#The 'try' block opens a file for reading,and then does something with the file. \n",
    "#If an 'IOError' occurs  the first 'except' block will execute.\n",
    "#Regardless of whether an exception occurred, the 'finally' block will execute, \n",
    "#closing the file if it was opened successfully."
   ]
  },
  {
   "cell_type": "code",
   "execution_count": 11,
   "id": "990d6d81-5c63-4df3-b7e3-ed4a3f3c786a",
   "metadata": {},
   "outputs": [
    {
     "name": "stdout",
     "output_type": "stream",
     "text": [
      "Cannot divide by zero.\n"
     ]
    }
   ],
   "source": [
    "#(c) 'raise'is a keyword in Python that is used to manually raise an exception. \n",
    "# When you raise an exception, you are indicating that something has gone wrong\n",
    "# in your code and that the calling code should handle the exception.\n",
    "\n",
    "def divide(a, b):\n",
    "    if b == 0:\n",
    "        raise ZeroDivisionError(\"Cannot divide by zero.\")\n",
    "    return a / b\n",
    "\n",
    "try:\n",
    "    result = divide(10, 0)\n",
    "except ZeroDivisionError as e:\n",
    "    print(e)\n",
    "\n",
    "#the 'divide' function checks whether the second argument is '0', and raises a 'ZeroDivisionError' if it is\n",
    "#When the divide function is called with '10' and '0' as arguments, an exception is raised. \n",
    "#The calling code catches the exception and prints the error message "
   ]
  },
  {
   "cell_type": "code",
   "execution_count": 12,
   "id": "58d51238-c0dc-47dd-b71a-a03dacfea516",
   "metadata": {},
   "outputs": [
    {
     "data": {
      "text/plain": [
       "'Q5. What are Custom Exceptions in python? Who do we need Custom Exceptions? Explain with an example'"
      ]
     },
     "execution_count": 12,
     "metadata": {},
     "output_type": "execute_result"
    }
   ],
   "source": [
    "\"\"\"Q5. What are Custom Exceptions in python? Who do we need Custom Exceptions? Explain with an example\"\"\""
   ]
  },
  {
   "cell_type": "code",
   "execution_count": 13,
   "id": "e62c927b-36ad-496a-bd55-bc9b6c926faa",
   "metadata": {},
   "outputs": [
    {
     "name": "stdout",
     "output_type": "stream",
     "text": [
      "Data type not supported. Please provide an int or float.\n"
     ]
    }
   ],
   "source": [
    "#custom exceptions are user-defined exceptions that can be raised when a specific error condition is encountered.\n",
    "#These exceptions can be created by defining a new class that inherits from the built-in Exception class or any of its subclasses.\n",
    "#Custom exceptions are needed when the existing built-in exceptions do not accurately represent the error condition that needs to be raised. \n",
    "\n",
    "#For example, if a function is designed to work with specific data types and encounters an unsupported data type, \n",
    "#the built-in TypeError exception may be raised. However, if the function needs to convey a more specific error message to the user\n",
    "#a custom exception can be defined that inherits from TypeError and provides\n",
    "#additional information about the error.\n",
    "\n",
    "class UnsupportedDataTypeError(TypeError):\n",
    "    def __init__(self, message):\n",
    "        super().__init__(message)\n",
    "\n",
    "def process_data(data):\n",
    "    if not isinstance(data, (int, float)):\n",
    "        raise UnsupportedDataTypeError(\"Data type not supported. Please provide an int or float.\")\n",
    "    # perform data processing here\n",
    "\n",
    "data = \"hello\"\n",
    "try:\n",
    "    process_data(data)\n",
    "except UnsupportedDataTypeError as e:\n",
    "    print(e)\n",
    "\n",
    "#'UnsupportedDataTypeError' that inherits from the built-in 'TypeError' exception.\n",
    "#The' __init__' method is overridden to accept a custom error message as an argument.\n",
    "#The 'process_data' function checks if the provided data is an int or float, and if \n",
    "#not, raises the' UnsupportedDataTypeError' with a custom error message.\n",
    "#When the code is run, the 'process_data' function is called with a string as the data argument,\n",
    "#which raises the custom 'UnsupportedDataTypeError' exception.\n",
    "#The exception is caught in a try-except block, and the error message is printed to the console.\n",
    "#By using custom exceptions in this way, we can provide more specific error \n",
    "#messages to users, making it easier to diagnose and fix problems.\n"
   ]
  },
  {
   "cell_type": "code",
   "execution_count": 14,
   "id": "eae96fa3-7164-41df-b393-4afd493cf5a4",
   "metadata": {},
   "outputs": [
    {
     "data": {
      "text/plain": [
       "'Q6. Create custom exception ,class. Use this ,class to handle an exception '"
      ]
     },
     "execution_count": 14,
     "metadata": {},
     "output_type": "execute_result"
    }
   ],
   "source": [
    "\"\"\"Q6. Create custom exception ,class. Use this ,class to handle an exception \"\"\"\n"
   ]
  },
  {
   "cell_type": "code",
   "execution_count": null,
   "id": "71a52cd3-b9c0-47ec-93c3-47a9e264b13d",
   "metadata": {},
   "outputs": [],
   "source": [
    "# A program that calculates the area of a rectangle, but we want to make sure that both the length and width are positive numbers.\n",
    "# can create custom exeception class callled 'InvalidRectangleError' to handle cases\n",
    "# where length or width is negative\n",
    "\n",
    "class InvalidRectangleError(Exception):\n",
    "    pass\n",
    "\n",
    "def calculate_area(length, width):\n",
    "    if length < 0 or width < 0:\n",
    "        raise InvalidRectangleError(\"Both length and width must be positive numbers.\")\n",
    "    return length * width\n",
    "\n",
    "try:\n",
    "    area = calculate_area(4, -5)\n",
    "    print(area)\n",
    "except InvalidRectangleError as e:\n",
    "    print(\"Error:\", e)\n",
    "\n",
    "#we create a custom exception class called 'InvalidRectangleError' that inherits from the built-in 'Exception' class.\n",
    "#We define the class with an empty 'pass' statement since we don't need to customize the error message.\n",
    "#Next, we define a function called 'calculate_area' that takes the length and width of a rectangle as input\n",
    "#If either the length or width is negative, we raise an 'InvalidRectangleError' exception with a custom error message.\n",
    "\n",
    "#Finally, we use a try-except block to handle the exception that may be raised by\n",
    "#the 'calculate_area' function. If an 'InvalidRectangleError' is raised, we print \n",
    "#the error message. Otherwise, we print the result of the computation.\n",
    "#This helps us to handle errors in sprcific way\n",
    "    "
   ]
  }
 ],
 "metadata": {
  "kernelspec": {
   "display_name": "Python 3 (ipykernel)",
   "language": "python",
   "name": "python3"
  },
  "language_info": {
   "codemirror_mode": {
    "name": "ipython",
    "version": 3
   },
   "file_extension": ".py",
   "mimetype": "text/x-python",
   "name": "python",
   "nbconvert_exporter": "python",
   "pygments_lexer": "ipython3",
   "version": "3.10.8"
  }
 },
 "nbformat": 4,
 "nbformat_minor": 5
}
